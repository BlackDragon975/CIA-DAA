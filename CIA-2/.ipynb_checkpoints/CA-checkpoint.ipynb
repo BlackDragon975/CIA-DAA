{
 "cells": [
  {
   "cell_type": "code",
   "execution_count": 1,
   "id": "05f09fb8",
   "metadata": {},
   "outputs": [],
   "source": [
    "import numpy as np\n",
    "import pandas as pd\n",
    "import torch\n",
    "import torch.nn as nn\n",
    "from sklearn.metrics import accuracy_score"
   ]
  },
  {
   "cell_type": "code",
   "execution_count": 2,
   "id": "ed07eb0a",
   "metadata": {},
   "outputs": [],
   "source": [
    "def create_layer(n_in, n_out, act_func = None):\n",
    "    layer = {}\n",
    "    layer[\"weights\"] = np.random.random((n_out, n_in + 1))\n",
    "    if act_func:\n",
    "        layer[\"act_func\"] = act_func()\n",
    "    else:\n",
    "        layer[\"act_func\"] = None\n",
    "    return layer"
   ]
  },
  {
   "cell_type": "code",
   "execution_count": 3,
   "id": "719016a2",
   "metadata": {},
   "outputs": [],
   "source": [
    "def forwardpass_layer(layer, X):\n",
    "    X = np.concatenate((X, np.ones((X.shape[0], 1))), axis = 1)\n",
    "    if layer[\"act_func\"]:\n",
    "        temp = torch.tensor((X @ layer[\"weights\"].T).astype(np.float32))\n",
    "        return layer[\"act_func\"](temp).numpy()\n",
    "    else:\n",
    "        return X @ layer[\"weights\"].T"
   ]
  },
  {
   "cell_type": "code",
   "execution_count": 4,
   "id": "0e474517",
   "metadata": {},
   "outputs": [],
   "source": [
    "def create_network(layers, act_funcs = None):\n",
    "    network = {}\n",
    "    network[\"layers\"] = []\n",
    "    network[\"layer_sizes\"] = []\n",
    "    \n",
    "    if act_funcs is None:\n",
    "        for i in range(len(layers) - 1):\n",
    "            network[\"layers\"] += [create_layer(layers[i], layers[i + 1])]\n",
    "            network[\"layer_sizes\"] += [(layers[i] + 1, layers[i + 1])]\n",
    "            \n",
    "    else:\n",
    "        for i in range(len(layers) - 1):\n",
    "            network[\"layers\"] += [create_layer(layers[i], layers[i + 1], act_funcs[i])]\n",
    "            network[\"layer_sizes\"] += [(layers[i] + 1, layers[i + 1])]\n",
    "            \n",
    "    return network"
   ]
  },
  {
   "cell_type": "code",
   "execution_count": 5,
   "id": "4061f9bb",
   "metadata": {},
   "outputs": [],
   "source": [
    "def forwardpass_network(network, X):\n",
    "    for layer in network[\"layers\"]:\n",
    "        X = forwardpass_layer(layer, X)\n",
    "    return X"
   ]
  },
  {
   "cell_type": "code",
   "execution_count": 6,
   "id": "e105b6d3",
   "metadata": {},
   "outputs": [],
   "source": [
    "def get_weight_vector(network):\n",
    "    weight_vector = []\n",
    "    \n",
    "    for layer in network[\"layers\"]:\n",
    "        weight_vector += [layer[\"weights\"].flatten()]\n",
    "        \n",
    "    weight_vector = np.concatenate(weight_vector)\n",
    "    return weight_vector"
   ]
  },
  {
   "cell_type": "code",
   "execution_count": 7,
   "id": "88413413",
   "metadata": {},
   "outputs": [],
   "source": [
    "def set_layer_weights(network, weight_vector):\n",
    "    start = 0\n",
    "    \n",
    "    for l in range(len(network[\"layer_sizes\"])):\n",
    "        input_size, output_size = network[\"layer_sizes\"][l]\n",
    "        weights = weight_vector[start:start + input_size*output_size]\n",
    "        weights = weights.reshape((output_size, input_size))\n",
    "        network[\"layers\"][l][\"weights\"] = weights\n",
    "        start += input_size * output_size"
   ]
  },
  {
   "cell_type": "code",
   "execution_count": 8,
   "id": "c2f1eddd",
   "metadata": {},
   "outputs": [],
   "source": [
    "def create_belief(ind_size, startMean, startStd):\n",
    "    belief = {}\n",
    "    belief[\"ind_size\"] = ind_size\n",
    "    \n",
    "    try:\n",
    "        _ = len(startMean)\n",
    "        belief[\"mean\"] = np.full(ind_size, startMean)\n",
    "        belief[\"std\"] = np.full(ind_size, startStd)\n",
    "        \n",
    "    except:\n",
    "        belief[\"mean\"] = startMean\n",
    "        belief[\"std\"] = startStd\n",
    "        \n",
    "    return belief"
   ]
  },
  {
   "cell_type": "code",
   "execution_count": 9,
   "id": "e4f35945",
   "metadata": {},
   "outputs": [],
   "source": [
    "def bel_generate_population(belief, pop_size):\n",
    "    belief[\"pop\"] = (belief[\"mean\"] + belief[\"std\"] * np.random.randn(pop_size, belief[\"ind_size\"]))"
   ]
  },
  {
   "cell_type": "code",
   "execution_count": 10,
   "id": "64b639ae",
   "metadata": {},
   "outputs": [],
   "source": [
    "def update_traits(belief):\n",
    "    temp = belief[\"pop\"].T\n",
    "    for i in range(len(temp)):\n",
    "        belief[\"mean\"] = np.mean(temp[i])\n",
    "        belief[\"std\"] = np.std(temp[i])"
   ]
  },
  {
   "cell_type": "code",
   "execution_count": 11,
   "id": "6d3ef495",
   "metadata": {},
   "outputs": [],
   "source": [
    "def create_ca(model, X, Y, beliefs, mut_rate = 1):\n",
    "    ca = {}\n",
    "    ca[\"model\"] = model\n",
    "    ca[\"X\"] = X\n",
    "    ca[\"Y\"] = Y\n",
    "    ca[\"mut_rate\"] = mut_rate\n",
    "    \n",
    "    ca[\"ind_size\"] = get_weight_vector(model).shape[0]\n",
    "    ca[\"cultures\"] = []\n",
    "    \n",
    "    for belief_params in beliefs:\n",
    "        ca[\"cultures\"] += [create_belief(ca[\"ind_size\"], belief_params[0], belief_params[1])]\n",
    "        \n",
    "    return ca"
   ]
  },
  {
   "cell_type": "code",
   "execution_count": 12,
   "id": "e313b470",
   "metadata": {},
   "outputs": [],
   "source": [
    "def generate_population(ca, pop_sizePerBelief):\n",
    "    ca[\"pop_sizePerBelief\"] = pop_sizePerBelief\n",
    "    ca[\"pop_size\"] = len(ca['cultures']) * pop_sizePerBelief\n",
    "    for belief in ca[\"cultures\"]:\n",
    "        bel_generate_population(belief, pop_sizePerBelief)\n",
    "        try:\n",
    "            ca[\"pop\"] = np.concatenate((ca[\"pop\"], belief[\"pop\"]))\n",
    "        except:\n",
    "            ca[\"pop\"] = belief[\"pop\"]"
   ]
  },
  {
   "cell_type": "code",
   "execution_count": 13,
   "id": "f2766836",
   "metadata": {},
   "outputs": [],
   "source": [
    "def select_next_population_roulette(ca):\n",
    "    evaluate_population(ca)\n",
    "    temp = ca[\"pop\"].copy()\n",
    "    \n",
    "    for i in range(ca[\"pop_size\"]):\n",
    "        ca[\"scores\"] = ca[\"scores\"] / np.sum(ca[\"scores\"])\n",
    "\n",
    "        roulette = np.cumsum(ca[\"scores\"])\n",
    "\n",
    "        newPopIndex = []\n",
    "        for count in range(ca[\"pop_size\"]):\n",
    "            roulette_ball = np.random.random()\n",
    "            newPopIndex += [(roulette >= roulette_ball).tolist().index(True)]\n",
    "                \n",
    "    ca[\"pop\"] = temp[newPopIndex]"
   ]
  },
  {
   "cell_type": "code",
   "execution_count": 15,
   "id": "73c388d1",
   "metadata": {},
   "outputs": [],
   "source": [
    "def select_next_population(ca):\n",
    "    evaluate_population(ca)\n",
    "    \n",
    "    nextPopIndices = np.argsort(ca[\"scores\"])[::-1][:ca[\"pop_size\"]]\n",
    "    \n",
    "    ca[\"pop\"] = ca[\"pop\"][nextPopIndices]   "
   ]
  },
  {
   "cell_type": "code",
   "execution_count": 16,
   "id": "319173ef",
   "metadata": {},
   "outputs": [],
   "source": [
    "def mutate(ca, ind):\n",
    "    if np.random.random() > (1-ca[\"mut_rate\"]):\n",
    "        index = np.random.randint(ca[\"ind_size\"])\n",
    "        ind[index] = np.random.randint(100) * np.random.rand()\n",
    "        \n",
    "    return ind"
   ]
  },
  {
   "cell_type": "code",
   "execution_count": 17,
   "id": "39e6e1b2",
   "metadata": {},
   "outputs": [],
   "source": [
    "def cross_over(ca, p1, p2):\n",
    "    point = np.random.randint(ca[\"ind_size\"])\n",
    "    \n",
    "    off1 = np.concatenate((p1[:point], p2[point:]))\n",
    "    off2 = np.concatenate((p1[point:], p2[:point]))\n",
    "    \n",
    "    off1 = mutate(ca, off1)\n",
    "    off2 = mutate(ca, off2)\n",
    "    \n",
    "    return np.array([off1, off2])"
   ]
  },
  {
   "cell_type": "code",
   "execution_count": 18,
   "id": "4c588443",
   "metadata": {},
   "outputs": [],
   "source": [
    "def reproduce(ca):\n",
    "    for p1 in range(ca[\"pop_size\"]):\n",
    "        for p2 in range(ca[\"pop_size\"]):\n",
    "            if p1 != p2:\n",
    "                ca[\"pop\"] = np.concatenate((ca[\"pop\"], cross_over(ca, ca[\"pop\"][p1], ca[\"pop\"][p2])))\n",
    "            "
   ]
  },
  {
   "cell_type": "code",
   "execution_count": 19,
   "id": "3325efae",
   "metadata": {},
   "outputs": [],
   "source": [
    "def evaluate_population(ca):\n",
    "    scores = []\n",
    "    for individual in ca[\"pop\"]:\n",
    "        set_layer_weights(ca[\"model\"], individual)\n",
    "        pred = np.round(forwardpass_network(ca[\"model\"], ca[\"X\"]))\n",
    "        scores += [accuracy_score(ca[\"Y\"], pred)]            \n",
    "    ca[\"scores\"] = np.array(scores)"
   ]
  },
  {
   "cell_type": "code",
   "execution_count": 20,
   "id": "c6a731f9",
   "metadata": {},
   "outputs": [],
   "source": [
    "def classify(ca):\n",
    "    for belief in ca[\"cultures\"]:\n",
    "        z = np.sum((ca[\"pop\"] - belief[\"mean\"]), axis = 1) / (belief[\"std\"])\n",
    "        newPopulationOfBelief = np.argsort(z)[:ca[\"pop_sizePerBelief\"]]\n",
    "        belief[\"pop\"] = ca[\"pop\"][newPopulationOfBelief]\n",
    "        ca[\"pop\"] = ca[\"pop\"][np.argsort(z)[ca[\"pop_sizePerBelief\"]:]]\n",
    "        \n",
    "        try:\n",
    "            temp = np.concatenate((belief[\"pop\"], temp))\n",
    "        except:\n",
    "            temp = belief[\"pop\"]\n",
    "            \n",
    "    for belief in ca[\"cultures\"]:\n",
    "        ca[\"pop\"] = np.concatenate((ca[\"pop\"], belief[\"pop\"]))"
   ]
  },
  {
   "cell_type": "code",
   "execution_count": 21,
   "id": "23c5107a",
   "metadata": {},
   "outputs": [],
   "source": [
    "def update_beliefs(ca):\n",
    "    for belief in ca[\"cultures\"]:\n",
    "        update_traits(belief)"
   ]
  },
  {
   "cell_type": "code",
   "execution_count": 22,
   "id": "3be146ba",
   "metadata": {},
   "outputs": [],
   "source": [
    "data = pd.read_csv(\"Bank_Personal_Loan_Modelling.csv\")\n",
    "data = data.drop([\"ID\", \"ZIP Code\"], axis = 1)"
   ]
  },
  {
   "cell_type": "code",
   "execution_count": 23,
   "id": "04f197c7",
   "metadata": {},
   "outputs": [],
   "source": [
    "X = data.drop(\"Personal Loan\", axis = 1).values\n",
    "y = data[\"Personal Loan\"].values.reshape(-1,1)"
   ]
  },
  {
   "cell_type": "code",
   "execution_count": 24,
   "id": "09d85275",
   "metadata": {},
   "outputs": [],
   "source": [
    "from sklearn.model_selection import train_test_split\n",
    "\n",
    "X_train, X_test, y_train, y_test = train_test_split(X, y, test_size = 0.2)"
   ]
  },
  {
   "cell_type": "code",
   "execution_count": 25,
   "id": "e392c808",
   "metadata": {},
   "outputs": [],
   "source": [
    "from sklearn.preprocessing import StandardScaler\n",
    "sc = StandardScaler()\n",
    "X_train = sc.fit_transform(X_train)\n",
    "X_test = sc.transform(X_test)"
   ]
  },
  {
   "cell_type": "code",
   "execution_count": null,
   "id": "e524c263",
   "metadata": {
    "scrolled": true
   },
   "outputs": [
    {
     "name": "stdout",
     "output_type": "stream",
     "text": [
      "epoch :  0  :  0.803\n",
      "epoch :  1  :  0.9045\n",
      "epoch :  2  :  0.9045\n",
      "epoch :  3  :  0.9045\n",
      "epoch :  4  :  0.9045\n",
      "epoch :  5  :  0.9045\n",
      "epoch :  6  :  0.9045\n",
      "epoch :  7  :  0.9045\n",
      "epoch :  8  :  0.9045\n"
     ]
    },
    {
     "name": "stderr",
     "output_type": "stream",
     "text": [
      "C:\\Users\\Achu\\AppData\\Local\\Temp\\ipykernel_25204\\924963958.py:3: RuntimeWarning: divide by zero encountered in true_divide\n",
      "  z = np.sum((ca[\"pop\"] - belief[\"mean\"]), axis = 1) / (belief[\"std\"])\n"
     ]
    },
    {
     "name": "stdout",
     "output_type": "stream",
     "text": [
      "epoch :  9  :  0.9045\n"
     ]
    },
    {
     "name": "stderr",
     "output_type": "stream",
     "text": [
      "C:\\Users\\Achu\\AppData\\Local\\Temp\\ipykernel_25204\\924963958.py:3: RuntimeWarning: divide by zero encountered in true_divide\n",
      "  z = np.sum((ca[\"pop\"] - belief[\"mean\"]), axis = 1) / (belief[\"std\"])\n"
     ]
    },
    {
     "name": "stdout",
     "output_type": "stream",
     "text": [
      "epoch :  10  :  0.9045\n"
     ]
    },
    {
     "name": "stderr",
     "output_type": "stream",
     "text": [
      "C:\\Users\\Achu\\AppData\\Local\\Temp\\ipykernel_25204\\924963958.py:3: RuntimeWarning: divide by zero encountered in true_divide\n",
      "  z = np.sum((ca[\"pop\"] - belief[\"mean\"]), axis = 1) / (belief[\"std\"])\n"
     ]
    },
    {
     "name": "stdout",
     "output_type": "stream",
     "text": [
      "epoch :  11  :  0.9045\n",
      "epoch :  12  :  0.9045\n"
     ]
    },
    {
     "name": "stderr",
     "output_type": "stream",
     "text": [
      "C:\\Users\\Achu\\AppData\\Local\\Temp\\ipykernel_25204\\924963958.py:3: RuntimeWarning: divide by zero encountered in true_divide\n",
      "  z = np.sum((ca[\"pop\"] - belief[\"mean\"]), axis = 1) / (belief[\"std\"])\n"
     ]
    },
    {
     "name": "stdout",
     "output_type": "stream",
     "text": [
      "epoch :  13  :  0.9045\n"
     ]
    },
    {
     "name": "stderr",
     "output_type": "stream",
     "text": [
      "C:\\Users\\Achu\\AppData\\Local\\Temp\\ipykernel_25204\\924963958.py:3: RuntimeWarning: divide by zero encountered in true_divide\n",
      "  z = np.sum((ca[\"pop\"] - belief[\"mean\"]), axis = 1) / (belief[\"std\"])\n"
     ]
    },
    {
     "name": "stdout",
     "output_type": "stream",
     "text": [
      "epoch :  14  :  0.9045\n",
      "epoch :  15  :  0.9045\n"
     ]
    },
    {
     "name": "stderr",
     "output_type": "stream",
     "text": [
      "C:\\Users\\Achu\\AppData\\Local\\Temp\\ipykernel_25204\\924963958.py:3: RuntimeWarning: divide by zero encountered in true_divide\n",
      "  z = np.sum((ca[\"pop\"] - belief[\"mean\"]), axis = 1) / (belief[\"std\"])\n"
     ]
    },
    {
     "name": "stdout",
     "output_type": "stream",
     "text": [
      "epoch :  16  :  0.9045\n",
      "epoch :  17  :  0.9045\n"
     ]
    },
    {
     "name": "stderr",
     "output_type": "stream",
     "text": [
      "C:\\Users\\Achu\\AppData\\Local\\Temp\\ipykernel_25204\\924963958.py:3: RuntimeWarning: divide by zero encountered in true_divide\n",
      "  z = np.sum((ca[\"pop\"] - belief[\"mean\"]), axis = 1) / (belief[\"std\"])\n"
     ]
    },
    {
     "name": "stdout",
     "output_type": "stream",
     "text": [
      "epoch :  18  :  0.9045\n",
      "epoch :  19  :  0.9045\n",
      "epoch :  20  :  0.9045\n",
      "epoch :  21  :  0.9045\n"
     ]
    },
    {
     "name": "stderr",
     "output_type": "stream",
     "text": [
      "C:\\Users\\Achu\\AppData\\Local\\Temp\\ipykernel_25204\\924963958.py:3: RuntimeWarning: divide by zero encountered in true_divide\n",
      "  z = np.sum((ca[\"pop\"] - belief[\"mean\"]), axis = 1) / (belief[\"std\"])\n"
     ]
    },
    {
     "name": "stdout",
     "output_type": "stream",
     "text": [
      "epoch :  22  :  0.9045\n",
      "epoch :  23  :  0.9045\n",
      "epoch :  24  :  0.9045\n",
      "epoch :  25  :  0.9045\n",
      "epoch :  26  :  0.9045\n"
     ]
    }
   ],
   "source": [
    "model = create_network([11, 4, 1], [nn.Sigmoid, nn.Sigmoid])\n",
    "forwardpass_network(model, X_train)\n",
    "\n",
    "epochs = 100\n",
    "\n",
    "ca = create_ca(model, X_train, y_train, [(20, 20),(10,10),(100, 10)], 1)\n",
    "generate_population(ca, 10)\n",
    "\n",
    "acc = 0\n",
    "for epoch in range(epochs):    \n",
    "    reproduce(ca)\n",
    "    select_next_population(ca)\n",
    "    classify(ca)\n",
    "    update_beliefs(ca)\n",
    "    evaluate_population(ca)\n",
    "    acc = max(ca[\"scores\"])\n",
    "    print(\"epoch : \",epoch,\" : \",acc)"
   ]
  }
 ],
 "metadata": {
  "kernelspec": {
   "display_name": "Python 3 (ipykernel)",
   "language": "python",
   "name": "python3"
  },
  "language_info": {
   "codemirror_mode": {
    "name": "ipython",
    "version": 3
   },
   "file_extension": ".py",
   "mimetype": "text/x-python",
   "name": "python",
   "nbconvert_exporter": "python",
   "pygments_lexer": "ipython3",
   "version": "3.8.5"
  }
 },
 "nbformat": 4,
 "nbformat_minor": 5
}
