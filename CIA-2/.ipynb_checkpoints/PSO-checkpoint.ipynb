{
 "cells": [
  {
   "cell_type": "code",
   "execution_count": 1,
   "id": "732f8885",
   "metadata": {},
   "outputs": [],
   "source": [
    "import pandas as pd\n",
    "import numpy as np"
   ]
  },
  {
   "cell_type": "code",
   "execution_count": 2,
   "id": "c9719dc2",
   "metadata": {},
   "outputs": [],
   "source": [
    "class Particle:\n",
    "    def __init__(self, n_dim, x_range, v_range):\n",
    "        self.x = np.random.uniform(x_range[0], x_range[1], (no_dim))\n",
    "        self.v = np.random.uniform(v_range[0], v_range[1], (no_dim))\n",
    "        \n",
    "        self.pbest = np.inf\n",
    "        self.pbestpos = np.zeros((n_dim,))"
   ]
  },
  {
   "cell_type": "code",
   "execution_count": 3,
   "id": "1abdb65f",
   "metadata": {},
   "outputs": [],
   "source": [
    "class Swarm:\n",
    "    def __init__(self, n_particle, n_dim, x_range, v_range, iw_ranve, c):\n",
    "        self.p = np.array([Particle(n_dim, x_range, v_range) for i in range(n_particle)])\n",
    "        self.gbest = np.inf\n",
    "        self.gbestpos = np.zeros((n_dim,))\n",
    "        self.x_range = x_range\n",
    "        self.v_range = v_range\n",
    "        self.iw_range = iw_range\n",
    "        self.c0 = c[0]\n",
    "        self.c1 = c[1]\n",
    "        self.n_dim = n_dim\n",
    "    \n",
    "    def optimize(self, function, X, y, step, iter):\n",
    "        for i in range(iter):\n",
    "            for particle in self.p:\n",
    "                fitness = function(X, y, particle.x)\n",
    "                \n",
    "                if fitness < particle.pbest:\n",
    "                    particle.pbest = fitness\n",
    "                    particle.pbestpos = particle.x.copy()\n",
    "                \n",
    "                if fitness < self.gbest:\n",
    "                    self.gbest = fitness\n",
    "                    self.gbestpos = particle.x.copy()\n",
    "                \n",
    "            for particle in self.p:\n",
    "                iw = np.random.uniform(self.iw_range[0], self.iw_range[1], 1)[0]\n",
    "                \n",
    "                particle.v = (iw * particle.v + (self.c0 * np.random.uniform(0.0, 1.0, (self.n_dim,)) * (particle.pbestpos - particle.x)\n",
    "                             + self.c1 * np.random.uniform(0.0, 1.0, (self.n_dim,)) * (self.gbestpos - particle.x)))\n",
    "                \n",
    "            if i % step == 0:\n",
    "                print(\"iteration: \",i+1, \"loss: \",  fitness)\n",
    "            \n",
    "        print(\"Global best loss: \", self.gbest)\n",
    "        \n",
    "    def best_sol(self):\n",
    "        return self.gbestpos"
   ]
  },
  {
   "cell_type": "code",
   "execution_count": 4,
   "id": "f09e7297",
   "metadata": {},
   "outputs": [],
   "source": [
    "data = pd.read_csv(\"Bank_Personal_Loan_Modelling.csv\")\n",
    "\n",
    "data = data.drop([\"ZIP Code\", \"ID\"], axis = 1)\n",
    "X = data.drop([\"Personal Loan\"], axis = 1)\n",
    "y = data.loc[:, \"Personal Loan\"]"
   ]
  },
  {
   "cell_type": "code",
   "execution_count": 5,
   "id": "b5164877",
   "metadata": {},
   "outputs": [],
   "source": [
    "input_neuron = X.shape[1]\n",
    "hidden_neuron = 5\n",
    "output_neuron = 2"
   ]
  },
  {
   "cell_type": "code",
   "execution_count": 6,
   "id": "a3a2377d",
   "metadata": {},
   "outputs": [],
   "source": [
    "from sklearn.model_selection import train_test_split\n",
    "\n",
    "X_train, X_test, y_train, y_test = train_test_split(X, y, test_size = 0.2)"
   ]
  },
  {
   "cell_type": "code",
   "execution_count": 7,
   "id": "5d362e71",
   "metadata": {},
   "outputs": [],
   "source": [
    "def Negative_Likelihood(probs, Y):\n",
    "    num_samples = len(probs)\n",
    "    corect_logprobs = -np.log(probs[range(num_samples), Y])\n",
    "    return np.sum(corect_logprobs) / num_samples"
   ]
  },
  {
   "cell_type": "code",
   "execution_count": 8,
   "id": "cfccc1b6",
   "metadata": {},
   "outputs": [],
   "source": [
    "def softmax(logits):\n",
    "    exps = np.exp(logits)\n",
    "    return exps / np.sum(exps, axis=1, keepdims=True)"
   ]
  },
  {
   "cell_type": "code",
   "execution_count": 9,
   "id": "b04f2623",
   "metadata": {},
   "outputs": [],
   "source": [
    "def Cross_Entropy(probs, Y):\n",
    "    num_samples = len(probs)\n",
    "    ind_loss = np.max(-1 * Y * np.log(probs + 1e-12), axis=1)\n",
    "    return np.sum(ind_loss) / num_samples"
   ]
  },
  {
   "cell_type": "code",
   "execution_count": 10,
   "id": "d2b94621",
   "metadata": {},
   "outputs": [],
   "source": [
    "def forward_pass(X, Y, W):\n",
    "\n",
    "    if isinstance(W, Particle):\n",
    "        W = W.x\n",
    "\n",
    "    w1 = W[0 : input_neuron * hidden_neuron].reshape((input_neuron, hidden_neuron))\n",
    "    b1 = W[\n",
    "        input_neuron * hidden_neuron : (input_neuron * hidden_neuron) + hidden_neuron\n",
    "    ].reshape((hidden_neuron,))\n",
    "    w2 = W[\n",
    "        (input_neuron * hidden_neuron)\n",
    "        + hidden_neuron : (input_neuron * hidden_neuron)\n",
    "        + hidden_neuron\n",
    "        + (hidden_neuron * output_neuron)\n",
    "    ].reshape((hidden_neuron, output_neuron))\n",
    "    b2 = W[\n",
    "        (input_neuron * hidden_neuron)\n",
    "        + hidden_neuron\n",
    "        + (hidden_neuron * output_neuron) : (input_neuron * hidden_neuron)\n",
    "        + hidden_neuron\n",
    "        + (hidden_neuron * output_neuron)\n",
    "        + output_neuron\n",
    "    ].reshape((output_neuron,))\n",
    "\n",
    "    z1 = np.dot(X, w1) + b1\n",
    "    a1 = np.tanh(z1)\n",
    "    z2 = np.dot(a1, w2) + b2\n",
    "    logits = z2\n",
    "\n",
    "    probs = softmax(logits)\n",
    "    return Negative_Likelihood(probs, Y)"
   ]
  },
  {
   "cell_type": "code",
   "execution_count": 11,
   "id": "9253d5c2",
   "metadata": {},
   "outputs": [],
   "source": [
    "def predict(X, W):\n",
    "\n",
    "    w1 = W[0 : input_neuron * hidden_neuron].reshape((input_neuron, hidden_neuron))\n",
    "    b1 = W[\n",
    "        input_neuron * hidden_neuron : (input_neuron * hidden_neuron) + hidden_neuron\n",
    "    ].reshape((hidden_neuron,))\n",
    "    w2 = W[\n",
    "        (input_neuron * hidden_neuron)\n",
    "        + hidden_neuron : (input_neuron * hidden_neuron)\n",
    "        + hidden_neuron\n",
    "        + (hidden_neuron * output_neuron)\n",
    "    ].reshape((hidden_neuron, output_neuron))\n",
    "    b2 = W[\n",
    "        (input_neuron * hidden_neuron)\n",
    "        + hidden_neuron\n",
    "        + (hidden_neuron * output_neuron) : (input_neuron * hidden_neuron)\n",
    "        + hidden_neuron\n",
    "        + (hidden_neuron * output_neuron)\n",
    "        + output_neuron\n",
    "    ].reshape((output_neuron,))\n",
    "\n",
    "    z1 = np.dot(X, w1) + b1\n",
    "    a1 = np.tanh(z1)\n",
    "    z2 = np.dot(a1, w2) + b2\n",
    "    logits = z2\n",
    "\n",
    "    probs = softmax(logits)\n",
    "    Y_pred = np.argmax(probs, axis=1)\n",
    "    return Y_pred"
   ]
  },
  {
   "cell_type": "code",
   "execution_count": 12,
   "id": "5b03d544",
   "metadata": {},
   "outputs": [],
   "source": [
    "def get_accuracy(Y, Y_pred):\n",
    "    return (Y == Y_pred).mean()"
   ]
  },
  {
   "cell_type": "code",
   "execution_count": null,
   "id": "e2e031a2",
   "metadata": {},
   "outputs": [
    {
     "name": "stdout",
     "output_type": "stream",
     "text": [
      "iteration:  1 loss:  0.33857370529203545\n"
     ]
    }
   ],
   "source": [
    "no_solution = 100\n",
    "no_dim = (\n",
    "    (input_neuron * hidden_neuron)\n",
    "    + hidden_neuron\n",
    "    + (hidden_neuron * output_neuron)\n",
    "    + output_neuron\n",
    ")\n",
    "w_range = (0.0, 1.0)\n",
    "lr_range = (0.0, 1.0)\n",
    "iw_range = (0.9, 0.9)\n",
    "c = (0.5, 0.3)\n",
    "\n",
    "s = Swarm(no_solution, no_dim, w_range, lr_range, iw_range, c)\n",
    "s.optimize(forward_pass, X_train, y_train, 100, 1000)\n",
    "W = s.get_best_solution()\n",
    "y_pred = predict(X_test, W)\n",
    "accuracy = get_accuracy(y_test, y_pred)\n",
    "print(\"Accuracy: %.3f\" % accuracy)"
   ]
  }
 ],
 "metadata": {
  "kernelspec": {
   "display_name": "Python 3 (ipykernel)",
   "language": "python",
   "name": "python3"
  },
  "language_info": {
   "codemirror_mode": {
    "name": "ipython",
    "version": 3
   },
   "file_extension": ".py",
   "mimetype": "text/x-python",
   "name": "python",
   "nbconvert_exporter": "python",
   "pygments_lexer": "ipython3",
   "version": "3.8.5"
  }
 },
 "nbformat": 4,
 "nbformat_minor": 5
}
