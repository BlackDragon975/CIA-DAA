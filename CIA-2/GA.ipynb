{
 "cells": [
  {
   "cell_type": "code",
   "execution_count": 1,
   "id": "36973dd1",
   "metadata": {},
   "outputs": [],
   "source": [
    "from sklearn.preprocessing import label_binarize, LabelBinarizer\n",
    "import numpy as np\n",
    "from sklearn.utils.extmath import softmax\n",
    "from sklearn.metrics import accuracy_score, log_loss"
   ]
  },
  {
   "cell_type": "code",
   "execution_count": 2,
   "id": "58d45ccd",
   "metadata": {},
   "outputs": [],
   "source": [
    "def initialize_pop(input_neuron, hidden_neuron, output_neuron, pop_size, low, high):\n",
    "    pop = [dict() for i in range(pop_size)]\n",
    "    \n",
    "    for i in range(pop_size):\n",
    "        wH = np.random.uniform(low, high, size = (hidden_neuron, input_neuron))\n",
    "        wO = np.random.uniform(low, high, size = (output_neuron, hidden_neuron))\n",
    "        \n",
    "        bH = np.random.uniform(low, high, size = (hidden_neuron, 1))\n",
    "        bO = np.random.uniform(low, high, size = (output_neuron, 1))\n",
    "        \n",
    "        pop[i] = {\"wH\": wH, \"wO\": wO, \"bH\": bH, \"bO\": bO}\n",
    "    \n",
    "    return pop"
   ]
  },
  {
   "cell_type": "code",
   "execution_count": 3,
   "id": "5ccb381d",
   "metadata": {},
   "outputs": [],
   "source": [
    "def compute_loss(curGen, pop_size, X, y):\n",
    "    losses = [float() for i in range(pop_size)]\n",
    "    acc = [float() for i in range(pop_size)]\n",
    "    \n",
    "    for i in range(pop_size):\n",
    "        wH = curGen[i][\"wH\"]\n",
    "        bH = curGen[i][\"bH\"]\n",
    "        \n",
    "        zH = np.dot(wH, X.T) + bH\n",
    "        \n",
    "        oH = np.maximum(zH, 0)\n",
    "        \n",
    "        wO = curGen[i][\"wO\"]\n",
    "        bO = curGen[i][\"bO\"]\n",
    "        \n",
    "        zO = np.dot(wO, oH) + bO\n",
    "        \n",
    "        zO = zO.T\n",
    "        \n",
    "        zO = softmax(zO)\n",
    "        \n",
    "        y_pred = np.argmax(zO, axis = 1)\n",
    "        y_pred = label_binarize(y_pred, classes = [0, 1])\n",
    "        \n",
    "        acc[i] = accuracy_score(y, y_pred)\n",
    "        losses[i] = log_loss(y, zO)\n",
    "        \n",
    "    return losses, acc"
   ]
  },
  {
   "cell_type": "code",
   "execution_count": 4,
   "id": "6be5f6a4",
   "metadata": {},
   "outputs": [],
   "source": [
    "def comp_fitness(losses, pop_size):\n",
    "    fitness = [float() for x in range(pop_size)]\n",
    "    \n",
    "    invertloss = [1/x for x in losses]\n",
    "    sum = np.sum(invertloss)\n",
    "    \n",
    "    for i in range(pop_size):\n",
    "        fitness[i] = (invertloss[i] / sum) * 100\n",
    "        \n",
    "    return fitness"
   ]
  },
  {
   "cell_type": "code",
   "execution_count": 5,
   "id": "677fb4b2",
   "metadata": {},
   "outputs": [],
   "source": [
    "def roulette(fitness, pop_size):\n",
    "    count = 0\n",
    "    p1 = -1\n",
    "    p2 = -1\n",
    "    \n",
    "    while count != 2:\n",
    "        val = np.random.random_sample()*100\n",
    "        \n",
    "        cf = 0\n",
    "        i = 0\n",
    "        while cf < val and i < pop_size:\n",
    "            cf += fitness[i]\n",
    "            i += 1\n",
    "            \n",
    "        if p1 == -1:\n",
    "            p1 = i\n",
    "            count += 1\n",
    "        \n",
    "        elif p2 == -1 and p1 != i:\n",
    "            p2 = i\n",
    "            count += 1\n",
    "    \n",
    "    return (p1-1, p2-1)"
   ]
  },
  {
   "cell_type": "code",
   "execution_count": 6,
   "id": "5a35de35",
   "metadata": {},
   "outputs": [],
   "source": [
    "def flatten(chromo):\n",
    "    chromo_flattened = []\n",
    "    for i in chromo:\n",
    "        chromo_flattened = np.concatenate((chromo_flattened, chromo[i].flatten()))\n",
    "    return chromo_flattened"
   ]
  },
  {
   "cell_type": "code",
   "execution_count": 7,
   "id": "21d6a75f",
   "metadata": {},
   "outputs": [],
   "source": [
    "def unflatten(chromo_flattened, iCtr, hCtr, oCtr):\n",
    "    temp = np.split(chromo_flattened, [hCtr * iCtr])\n",
    "    wHflat = temp[0]\n",
    "    chromo_flattened = temp[1]\n",
    "    \n",
    "    temp = np.split(chromo_flattened, [oCtr * hCtr])\n",
    "    wOflat = temp[0]\n",
    "    chromo_flattened = temp[1]\n",
    "    \n",
    "    temp=np.split(chromo_flattened,[hCtr])\n",
    "    bHflat=temp[0]\n",
    "    chromo_flattened=temp[1]\n",
    "    \n",
    "    bOflat = chromo_flattened\n",
    "    \n",
    "    wH = np.array(wHflat).reshape(hCtr, iCtr)\n",
    "    wO = np.array(wOflat).reshape(oCtr, hCtr)\n",
    "    bH = np.array(bHflat).reshape(hCtr, 1)\n",
    "    bO = np.array(bOflat).reshape(oCtr, 1)\n",
    "    \n",
    "    chromo = {\"wH\": wH, \"wO\": wO, \"bH\": bH, \"bO\": bO}\n",
    "    \n",
    "    return chromo"
   ]
  },
  {
   "cell_type": "code",
   "execution_count": 8,
   "id": "d3051a35",
   "metadata": {},
   "outputs": [],
   "source": [
    "def flattenGen(curGen):\n",
    "    curGenFlat = []\n",
    "    \n",
    "    for chromo in curGen:\n",
    "        chromo_flat = flatten(chromo)\n",
    "        curGenFlat.append(chromo_flat)\n",
    "        \n",
    "    return curGenFlat"
   ]
  },
  {
   "cell_type": "code",
   "execution_count": 9,
   "id": "ea778553",
   "metadata": {},
   "outputs": [],
   "source": [
    "def unFlattenGen(curGenFlat, iCtr, hCtr, oCtr):\n",
    "    curGen = []\n",
    "    \n",
    "    for chromo_flat in curGenFlat:\n",
    "        chromo = unflatten(chromo_flat, iCtr, hCtr, oCtr)\n",
    "        curGen.append(chromo)\n",
    "        \n",
    "    return curGen    "
   ]
  },
  {
   "cell_type": "code",
   "execution_count": 10,
   "id": "d6ebe3ce",
   "metadata": {},
   "outputs": [],
   "source": [
    "def onepointcrossover(p1, p2, tot_genes):\n",
    "    point = np.random.randint(1, tot_genes)\n",
    "    \n",
    "    off1 = np.concatenate((p2[0:point],p1[point:]))\n",
    "    off2 = np.concatenate((p1[0:point],p2[point:]))\n",
    "    \n",
    "    return off1, off2"
   ]
  },
  {
   "cell_type": "code",
   "execution_count": 11,
   "id": "a18d0a89",
   "metadata": {},
   "outputs": [],
   "source": [
    "def onepointmutation(chromo, tot_genes, low, high, ProbOfMut):\n",
    "    \n",
    "    for i in range(tot_genes):\n",
    "        num = np.random.rand()\n",
    "        if num < ProbOfMut:\n",
    "            chromo[i] = float(np.random.uniform(-1.0,1.0,(1,1))) \n",
    "    \n",
    "    return chromo"
   ]
  },
  {
   "cell_type": "code",
   "execution_count": 12,
   "id": "e2f65880",
   "metadata": {},
   "outputs": [],
   "source": [
    "def nextGen(curGenFlat, fitness, popLoss, pop_size, tot_genes, prob_cross, prob_mut, low, high):\n",
    "    nextGenFlat = curGenFlat\n",
    "    i = 0\n",
    "    \n",
    "    while i < pop_size:\n",
    "        p1, p2 = roulette(fitness, pop_size)\n",
    "        \n",
    "        nextGenFlat[i] = curGenFlat[p1]\n",
    "        nextGenFlat[i+1] = curGenFlat[p2]\n",
    "        \n",
    "        rand = np.random.rand()\n",
    "        if rand < prob_cross:\n",
    "            off1, off2 = onepointcrossover(curGenFlat[p1], curGenFlat[p2], tot_genes)\n",
    "            nextGenFlat[i] = off1\n",
    "            nextGenFlat[i+1] = off2\n",
    "            \n",
    "        nextGenFlat[i] = onepointmutation(nextGenFlat[i], tot_genes, low, high, prob_mut)\n",
    "        nextGenFlat[i+1] = onepointmutation(nextGenFlat[i+1], tot_genes, low, high, prob_mut)\n",
    "        \n",
    "        i += 2\n",
    "    \n",
    "    return nextGenFlat"
   ]
  },
  {
   "cell_type": "code",
   "execution_count": 13,
   "id": "68960f8f",
   "metadata": {},
   "outputs": [],
   "source": [
    "import pandas as pd\n",
    "data = pd.read_csv(\"Bank_Personal_Loan_Modelling.csv\")"
   ]
  },
  {
   "cell_type": "code",
   "execution_count": 14,
   "id": "ecd75763",
   "metadata": {},
   "outputs": [
    {
     "data": {
      "text/html": [
       "<div>\n",
       "<style scoped>\n",
       "    .dataframe tbody tr th:only-of-type {\n",
       "        vertical-align: middle;\n",
       "    }\n",
       "\n",
       "    .dataframe tbody tr th {\n",
       "        vertical-align: top;\n",
       "    }\n",
       "\n",
       "    .dataframe thead th {\n",
       "        text-align: right;\n",
       "    }\n",
       "</style>\n",
       "<table border=\"1\" class=\"dataframe\">\n",
       "  <thead>\n",
       "    <tr style=\"text-align: right;\">\n",
       "      <th></th>\n",
       "      <th>ID</th>\n",
       "      <th>Age</th>\n",
       "      <th>Experience</th>\n",
       "      <th>Income</th>\n",
       "      <th>ZIP Code</th>\n",
       "      <th>Family</th>\n",
       "      <th>CCAvg</th>\n",
       "      <th>Education</th>\n",
       "      <th>Mortgage</th>\n",
       "      <th>Personal Loan</th>\n",
       "      <th>Securities Account</th>\n",
       "      <th>CD Account</th>\n",
       "      <th>Online</th>\n",
       "      <th>CreditCard</th>\n",
       "    </tr>\n",
       "  </thead>\n",
       "  <tbody>\n",
       "    <tr>\n",
       "      <th>0</th>\n",
       "      <td>1</td>\n",
       "      <td>25</td>\n",
       "      <td>1</td>\n",
       "      <td>49</td>\n",
       "      <td>91107</td>\n",
       "      <td>4</td>\n",
       "      <td>1.6</td>\n",
       "      <td>1</td>\n",
       "      <td>0</td>\n",
       "      <td>0</td>\n",
       "      <td>1</td>\n",
       "      <td>0</td>\n",
       "      <td>0</td>\n",
       "      <td>0</td>\n",
       "    </tr>\n",
       "    <tr>\n",
       "      <th>1</th>\n",
       "      <td>2</td>\n",
       "      <td>45</td>\n",
       "      <td>19</td>\n",
       "      <td>34</td>\n",
       "      <td>90089</td>\n",
       "      <td>3</td>\n",
       "      <td>1.5</td>\n",
       "      <td>1</td>\n",
       "      <td>0</td>\n",
       "      <td>0</td>\n",
       "      <td>1</td>\n",
       "      <td>0</td>\n",
       "      <td>0</td>\n",
       "      <td>0</td>\n",
       "    </tr>\n",
       "    <tr>\n",
       "      <th>2</th>\n",
       "      <td>3</td>\n",
       "      <td>39</td>\n",
       "      <td>15</td>\n",
       "      <td>11</td>\n",
       "      <td>94720</td>\n",
       "      <td>1</td>\n",
       "      <td>1.0</td>\n",
       "      <td>1</td>\n",
       "      <td>0</td>\n",
       "      <td>0</td>\n",
       "      <td>0</td>\n",
       "      <td>0</td>\n",
       "      <td>0</td>\n",
       "      <td>0</td>\n",
       "    </tr>\n",
       "    <tr>\n",
       "      <th>3</th>\n",
       "      <td>4</td>\n",
       "      <td>35</td>\n",
       "      <td>9</td>\n",
       "      <td>100</td>\n",
       "      <td>94112</td>\n",
       "      <td>1</td>\n",
       "      <td>2.7</td>\n",
       "      <td>2</td>\n",
       "      <td>0</td>\n",
       "      <td>0</td>\n",
       "      <td>0</td>\n",
       "      <td>0</td>\n",
       "      <td>0</td>\n",
       "      <td>0</td>\n",
       "    </tr>\n",
       "    <tr>\n",
       "      <th>4</th>\n",
       "      <td>5</td>\n",
       "      <td>35</td>\n",
       "      <td>8</td>\n",
       "      <td>45</td>\n",
       "      <td>91330</td>\n",
       "      <td>4</td>\n",
       "      <td>1.0</td>\n",
       "      <td>2</td>\n",
       "      <td>0</td>\n",
       "      <td>0</td>\n",
       "      <td>0</td>\n",
       "      <td>0</td>\n",
       "      <td>0</td>\n",
       "      <td>1</td>\n",
       "    </tr>\n",
       "  </tbody>\n",
       "</table>\n",
       "</div>"
      ],
      "text/plain": [
       "   ID  Age  Experience  Income  ZIP Code  Family  CCAvg  Education  Mortgage  \\\n",
       "0   1   25           1      49     91107       4    1.6          1         0   \n",
       "1   2   45          19      34     90089       3    1.5          1         0   \n",
       "2   3   39          15      11     94720       1    1.0          1         0   \n",
       "3   4   35           9     100     94112       1    2.7          2         0   \n",
       "4   5   35           8      45     91330       4    1.0          2         0   \n",
       "\n",
       "   Personal Loan  Securities Account  CD Account  Online  CreditCard  \n",
       "0              0                   1           0       0           0  \n",
       "1              0                   1           0       0           0  \n",
       "2              0                   0           0       0           0  \n",
       "3              0                   0           0       0           0  \n",
       "4              0                   0           0       0           1  "
      ]
     },
     "execution_count": 14,
     "metadata": {},
     "output_type": "execute_result"
    }
   ],
   "source": [
    "data.head()"
   ]
  },
  {
   "cell_type": "code",
   "execution_count": 15,
   "id": "6ab75d84",
   "metadata": {},
   "outputs": [],
   "source": [
    "data = data.drop([\"Age\", \"ZIP Code\"], axis = 1)"
   ]
  },
  {
   "cell_type": "code",
   "execution_count": 16,
   "id": "f5c0f8a3",
   "metadata": {},
   "outputs": [],
   "source": [
    "X = data.drop([\"Personal Loan\"], axis = 1)\n",
    "y = data.loc[:, [\"Personal Loan\"]]"
   ]
  },
  {
   "cell_type": "code",
   "execution_count": 17,
   "id": "3dc5b4ed",
   "metadata": {},
   "outputs": [],
   "source": [
    "from sklearn.model_selection import train_test_split\n",
    "\n",
    "X_train, X_test, y_train, y_test = train_test_split(X, y, test_size = 0.3)"
   ]
  },
  {
   "cell_type": "code",
   "execution_count": 18,
   "id": "ccb7e725",
   "metadata": {},
   "outputs": [],
   "source": [
    "from sklearn.preprocessing import StandardScaler\n",
    "\n",
    "sc = StandardScaler()\n",
    "X_train = sc.fit_transform(X_train)\n",
    "X_test = sc.transform(X_test)"
   ]
  },
  {
   "cell_type": "code",
   "execution_count": 19,
   "id": "6773e591",
   "metadata": {},
   "outputs": [],
   "source": [
    "input_neuron = X.shape[1]\n",
    "hidden_neuron = 4\n",
    "output_neuron = np.unique(y).shape[0]\n",
    "\n",
    "encoder = LabelBinarizer()\n",
    "y_train = encoder.fit_transform(y_train)\n",
    "y_test = encoder.transform(y_test)"
   ]
  },
  {
   "cell_type": "code",
   "execution_count": 20,
   "id": "3b0e6678",
   "metadata": {},
   "outputs": [],
   "source": [
    "tot_genes = input_neuron * hidden_neuron + hidden_neuron * output_neuron + hidden_neuron + output_neuron\n",
    "\n",
    "pop_size = 30\n",
    "low, high = -2.0, 2.0\n",
    "prob_cross = 0.8\n",
    "prob_mut = 0.01\n",
    "maxGen = 30"
   ]
  },
  {
   "cell_type": "code",
   "execution_count": 21,
   "id": "d987e8e8",
   "metadata": {},
   "outputs": [],
   "source": [
    "iniPop = initialize_pop(input_neuron, hidden_neuron, output_neuron, pop_size, low, high)\n",
    "curGen = iniPop"
   ]
  },
  {
   "cell_type": "code",
   "execution_count": 22,
   "id": "9d2ac35e",
   "metadata": {},
   "outputs": [],
   "source": [
    "for i in range(maxGen):\n",
    "    \n",
    "    loss, acc = compute_loss(curGen, pop_size, X_train, y_train)\n",
    "    fitness = comp_fitness(loss, pop_size)\n",
    "    \n",
    "    curGenFlat = flattenGen(curGen)\n",
    "    nextGenFlat = nextGen(curGenFlat, fitness, loss, pop_size, tot_genes, prob_cross, prob_mut, low, high)\n",
    "    nextGenUnflat = unFlattenGen(nextGenFlat, input_neuron, hidden_neuron, output_neuron)\n",
    "    \n",
    "    curGen = nextGenUnflat"
   ]
  },
  {
   "cell_type": "code",
   "execution_count": 24,
   "id": "f9159f2f",
   "metadata": {},
   "outputs": [],
   "source": [
    "import torch\n",
    "import torch.nn as nn\n",
    "\n",
    "X_test = torch.Tensor(X_test)\n",
    "X_test = X_test.to(torch.float32)"
   ]
  },
  {
   "cell_type": "code",
   "execution_count": 25,
   "id": "715e7577",
   "metadata": {},
   "outputs": [],
   "source": [
    "class Net(nn.Module):\n",
    "    def __init__(self):\n",
    "        super(Net, self).__init__()\n",
    "        self.fc1 = nn.Linear(in_features=11, out_features=4)\n",
    "        self.fc2 = nn.Linear(in_features=4, out_features=2)\n",
    "        self.init_weights()\n",
    "\n",
    "    def forward(self, x):\n",
    "        out = torch.relu(self.fc1(x))\n",
    "        out = self.fc2(out)\n",
    "        return out\n",
    "\n",
    "    def init_weights(self):\n",
    "        with torch.no_grad():\n",
    "              self.fc1.weight = nn.Parameter(torch.from_numpy(curGen[0][\"wH\"]))\n",
    "              self.fc1.bias = nn.Parameter(torch.from_numpy(curGen[0][\"bH\"]).flatten())\n",
    "              self.fc2.weight = nn.Parameter(torch.from_numpy(curGen[0][\"wO\"]))\n",
    "              self.fc2.bias = nn.Parameter(torch.from_numpy(curGen[0][\"bO\"]).flatten())\n",
    "\n",
    "model = Net()\n",
    "model = model.float()"
   ]
  },
  {
   "cell_type": "code",
   "execution_count": 27,
   "id": "dca5ea8d",
   "metadata": {},
   "outputs": [],
   "source": [
    "y_test_encoded = y_test.reshape(-1)\n",
    "y_test_encoded = np.eye(2)[y_test.T]"
   ]
  },
  {
   "cell_type": "code",
   "execution_count": 28,
   "id": "759cc088",
   "metadata": {},
   "outputs": [],
   "source": [
    "y_test_encoded = torch.from_numpy(y_test.astype(\"float32\"))"
   ]
  },
  {
   "cell_type": "code",
   "execution_count": 31,
   "id": "dfc5c59b",
   "metadata": {
    "scrolled": false
   },
   "outputs": [
    {
     "name": "stdout",
     "output_type": "stream",
     "text": [
      "Test Accuracy: 0.915\n"
     ]
    }
   ],
   "source": [
    "def accuracy(outputs, labels):\n",
    "    outputs = outputs.numpy()\n",
    "    output_list = []\n",
    "    for i in outputs:\n",
    "        if i[0] > i[1]:\n",
    "            output_list.append(0)\n",
    "        else:\n",
    "            output_list.append(1)\n",
    "    correct = (output_list == y_test).sum()\n",
    "    return correct / len(labels)\n",
    "\n",
    "model.eval()\n",
    "test_acc = 0 \n",
    "with torch.no_grad():\n",
    "    outputs = model(X_test)\n",
    "    test_acc += accuracy(outputs, y_test).item()\n",
    "print(f\"Test Accuracy: {test_acc/len(X_test):.3f}\")"
   ]
  },
  {
   "cell_type": "code",
   "execution_count": null,
   "id": "9a3e1ba9",
   "metadata": {},
   "outputs": [],
   "source": []
  }
 ],
 "metadata": {
  "kernelspec": {
   "display_name": "Python 3 (ipykernel)",
   "language": "python",
   "name": "python3"
  },
  "language_info": {
   "codemirror_mode": {
    "name": "ipython",
    "version": 3
   },
   "file_extension": ".py",
   "mimetype": "text/x-python",
   "name": "python",
   "nbconvert_exporter": "python",
   "pygments_lexer": "ipython3",
   "version": "3.8.5"
  }
 },
 "nbformat": 4,
 "nbformat_minor": 5
}
